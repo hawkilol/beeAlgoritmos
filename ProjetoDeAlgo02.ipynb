{
  "nbformat": 4,
  "nbformat_minor": 0,
  "metadata": {
    "colab": {
      "provenance": [],
      "authorship_tag": "ABX9TyOs5+lck5reTal07ulkG4vL",
      "include_colab_link": true
    },
    "kernelspec": {
      "name": "python3",
      "display_name": "Python 3"
    },
    "language_info": {
      "name": "python"
    }
  },
  "cells": [
    {
      "cell_type": "markdown",
      "metadata": {
        "id": "view-in-github",
        "colab_type": "text"
      },
      "source": [
        "<a href=\"https://colab.research.google.com/github/hawkilol/beeAlgoritmos/blob/main/ProjetoDeAlgo02.ipynb\" target=\"_parent\"><img src=\"https://colab.research.google.com/assets/colab-badge.svg\" alt=\"Open In Colab\"/></a>"
      ]
    },
    {
      "cell_type": "code",
      "execution_count": null,
      "metadata": {
        "id": "A63Y0Yyakj-5"
      },
      "outputs": [],
      "source": [
        "import time\n",
        "import matplotlib.pyplot as plt\n",
        "import numpy as np"
      ]
    },
    {
      "cell_type": "code",
      "source": [
        "#Q1"
      ],
      "metadata": {
        "id": "YhhLwpjfdvrs"
      },
      "execution_count": null,
      "outputs": []
    },
    {
      "cell_type": "code",
      "source": [
        "#heapsort\n",
        "def heapify(arr,n,i):#peneira\n",
        "  largest = i\n",
        "  l = 2*i + 1\n",
        "  r = 2*i + 2\n",
        "\n",
        "  if l < n and arr[largest].t < arr[l].t:\n",
        "    largest = l\n",
        "  \n",
        "  if r < n and arr[largest].t < arr[r].t:\n",
        "    largest = r\n",
        "  \n",
        "  if largest != i:\n",
        "    arr[i], arr[largest] = arr[largest], arr[i]\n",
        "    #arr[i] = arr[largest]\n",
        "    #arr[largest] = arr[i]\n",
        "\n",
        "    heapify(arr,n,largest)\n",
        "\n",
        "def heapSort(arr):\n",
        "  n = len(arr)\n",
        "  \n",
        "  for i in range(n//2 -1,-1,-1):\n",
        "    heapify(arr,n,i)\n",
        "  \n",
        "  for i in range(n-1,0,-1):\n",
        "    arr[i], arr[0] = arr[0], arr[i]\n",
        "    \n",
        "    heapify(arr,i,0)\n",
        "\n",
        "\n"
      ],
      "metadata": {
        "id": "AZiwKD_L7n9g"
      },
      "execution_count": 2,
      "outputs": []
    },
    {
      "cell_type": "code",
      "source": [],
      "metadata": {
        "id": "6hFB4ZiA_F-W"
      },
      "execution_count": null,
      "outputs": []
    },
    {
      "cell_type": "markdown",
      "source": [],
      "metadata": {
        "id": "9g09r-kXAinQ"
      }
    },
    {
      "cell_type": "code",
      "source": [
        "def sumTimes(clienteTimes):\n",
        "  sum = 0;\n",
        "  #clienteTimes = [3,5,10]\n",
        "  \n",
        "  sumAux =0\n",
        "\n",
        "  for i in clienteTimes:\n",
        "    print(i.t)\n",
        "    sum += i.t  \n",
        "    #sum +=i\n",
        "    #print(sum)\n",
        "    \n",
        "    sumAux += sum\n",
        "\n",
        "  print(\"Soma Minima: \")\n",
        "  print(sumAux)\n",
        "  return sumAux"
      ],
      "metadata": {
        "id": "R0l8SHEzJdL5"
      },
      "execution_count": 24,
      "outputs": []
    },
    {
      "cell_type": "code",
      "source": [
        "#Q1"
      ],
      "metadata": {
        "id": "C2pD1-71aT0T"
      },
      "execution_count": null,
      "outputs": []
    },
    {
      "cell_type": "code",
      "source": [
        "import copy\n",
        "#versao objeto\n",
        "class cliente:\n",
        "  def __init__(self):\n",
        "    self.n = None\n",
        "    self.t = 0\n",
        "\n",
        "def schedule():\n",
        "  nCliente = cliente()\n",
        "  nClientes = int(input(\"Numero de clientes:\"))\n",
        "\n",
        "  clienteTimes = []\n",
        "  minimi = 0\n",
        "  mini = 0\n",
        "  \n",
        "  for i in range(1, nClientes +1):\n",
        "    clientN = \"TempoCliente \" + str(i) +\": \"\n",
        "    \n",
        "    nCliente.n = i\n",
        "    time = int(input(clientN))\n",
        "\n",
        "    nCliente.t = time\n",
        "\n",
        "    clienteAux = copy.deepcopy(nCliente)\n",
        "\n",
        "    clienteTimes.append(clienteAux)\n",
        "\n",
        "\n",
        "  #heapsort O(n log n)\n",
        "  heapSort(clienteTimes)\n",
        "  \n",
        "  \n",
        "  sumTimes(clienteTimes)\n",
        "\n",
        "  r = \"\"\n",
        "  for i in clienteTimes:\n",
        "    r+=str(i.n)\n",
        "\n",
        "  print(\"Ordem: \" + r)\n",
        "\n",
        "  #print(clienteTimes.pop(0))\n",
        "  \n"
      ],
      "metadata": {
        "id": "KCVtup15GFyd"
      },
      "execution_count": 26,
      "outputs": []
    },
    {
      "cell_type": "code",
      "source": [
        "schedule()"
      ],
      "metadata": {
        "colab": {
          "base_uri": "https://localhost:8080/"
        },
        "id": "pebe6_rSHa1W",
        "outputId": "f6fa710f-15dc-4e47-aeb0-25fa06036bec"
      },
      "execution_count": 27,
      "outputs": [
        {
          "output_type": "stream",
          "name": "stdout",
          "text": [
            "Numero de clientes:3\n",
            "TempoCliente 1: 5\n",
            "TempoCliente 2: 10\n",
            "TempoCliente 3: 3\n",
            "3\n",
            "5\n",
            "10\n",
            "Soma Minima: \n",
            "29\n",
            "Ordem: 312\n",
            "<__main__.cliente object at 0x7f6e999956d0>\n"
          ]
        }
      ]
    },
    {
      "cell_type": "code",
      "source": [
        "# %%writefile Q1.c\n",
        "# #include <stdio.h>\n",
        "# int santaBag(int toys, int weight, int weightLimit){\n",
        "\n"
      ],
      "metadata": {
        "id": "yMzV1aSbGJzT"
      },
      "execution_count": null,
      "outputs": []
    },
    {
      "cell_type": "code",
      "source": [
        "%%shell\n",
        "ls\n",
        "gcc Q1.c -o Q1\n",
        "./Q1"
      ],
      "metadata": {
        "id": "cyo_oanFG0C5"
      },
      "execution_count": null,
      "outputs": []
    },
    {
      "cell_type": "code",
      "source": [],
      "metadata": {
        "id": "BzUzZLwjxpRT"
      },
      "execution_count": null,
      "outputs": []
    },
    {
      "cell_type": "code",
      "source": [
        "#Q2 http://www.beecrowd.com.br/judge/pt/problems/view/1767\n",
        "\n",
        "#Incompleto n compilou :("
      ],
      "metadata": {
        "id": "Y0GhYGRglF1z"
      },
      "execution_count": null,
      "outputs": []
    },
    {
      "cell_type": "code",
      "source": [
        "#Q3 http://www.beecrowd.com.br/judge/pt/problems/view/1312"
      ],
      "metadata": {
        "id": "p8JDQaO9xRiW"
      },
      "execution_count": null,
      "outputs": []
    },
    {
      "cell_type": "code",
      "source": [],
      "metadata": {
        "id": "wbt_ylK9xoy7"
      },
      "execution_count": null,
      "outputs": []
    },
    {
      "cell_type": "code",
      "source": [
        "#rightversion refazer"
      ],
      "metadata": {
        "id": "pmDHnpunDMGj"
      },
      "execution_count": null,
      "outputs": []
    },
    {
      "cell_type": "code",
      "source": [
        "#%%writefile Q3.c\n",
        "#include <stdio.h>\n",
        "#include <string.h>\n",
        "\n",
        "int max(int num1, int num2)\n",
        "{\n",
        "    return (num1 > num2 ) ? num1 : num2;\n",
        "}\n",
        "\n",
        "//rows certo?\n",
        "//cagada na alocacao de memoria *talvez\n",
        "//2**9 -> 512 muito pouco(core dump)\n",
        "//2**10 -> 1024 passa no teste\n",
        "int integers[1024][1024] = {};\n",
        "    //memset(integers, 0, rows*rows*sizeof(int));\n",
        "\n",
        "int stackAux[1024][1024] = {};\n",
        "    //memset(stackAux, 0, rows*rows*sizeof(int));\n",
        "\n",
        "int stackTop[1024][1024] = {};\n",
        "    //memset(stackTop, 0, rows*rows*sizeof(int));\n",
        "\n",
        "int stack[1024][1024] = {};\n",
        "\n",
        "\n",
        "int balls(int rows){\n",
        "    int i, j, k;\n",
        "    int integer;\n",
        "    int sum, take = 0;\n",
        "    \n",
        "    //rows certo?\n",
        "    //cagada na alocacao de memoria *talvez\n",
        "    \n",
        "    memset(stack, 0, sizeof(stack));\n",
        "\n",
        "    //comecar pelo 1 ja que o 0 0 n tem bola em cima!\n",
        "    for (i=1; i<= rows; i++){\n",
        "      for(k = 1; k<= i; k++){\n",
        "        scanf(\"%d\", &integers[i][k]);\n",
        "        //printf(\"check:%d\", integers[i][k]);\n",
        "        integers[i][k] += integers[i-1][k];\n",
        "\n",
        "      }\n",
        "    }\n",
        "    for (i=1; i<= rows; i++){\n",
        "      for(k = 1; k<= i; k++){\n",
        "        stackAux[i][k] = integers[i][k] + stackAux[i-1][k-1];\n",
        "\n",
        "      }\n",
        "    }\n",
        "    //memset(stack, 0, sizeof(stack));\n",
        "    \n",
        "    for (i=1; i<= rows; i++){\n",
        "      for(k = i; k<= rows; k++){\n",
        "        stack[k][i] = stackAux[k][i];\n",
        "\n",
        "        stack[k][i] = max(stack[k][i], stackTop[k-1][i-1] + integers[k][i]);\n",
        "\n",
        "        take = max(take, stack[k][i]);\n",
        "        \n",
        "      }\n",
        "      \n",
        "      stackTop[rows][i] = stack[rows][i];\n",
        "\n",
        "      for(j = rows -1; j >= i; j--){\n",
        "          stackTop[j][i] = max(stackTop[j+1][i], stack[j][i]);\n",
        "   \n",
        "       }\n",
        "    }\n",
        "    printf(\"%d\", take);\n",
        "    printf(\"\\n\");\n",
        "}\n",
        "\n",
        "int main(void){\n",
        "    int rows;\n",
        "\n",
        "    while(scanf(\"%d\",&rows) == 1 && rows != 0){\n",
        "      balls(rows);\n",
        "\n",
        "    }\n",
        "    return 0;\n",
        "}\n"
      ],
      "metadata": {
        "colab": {
          "base_uri": "https://localhost:8080/"
        },
        "id": "sSyy_-4CDNLJ",
        "outputId": "1646f721-8090-4e89-9456-0f99390aede7"
      },
      "execution_count": null,
      "outputs": [
        {
          "output_type": "stream",
          "name": "stdout",
          "text": [
            "Overwriting Q3.c\n"
          ]
        }
      ]
    },
    {
      "cell_type": "code",
      "source": [
        "%%shell\n",
        "ls\n",
        "gcc Q3.c -o Q3\n",
        "./Q3"
      ],
      "metadata": {
        "colab": {
          "base_uri": "https://localhost:8080/"
        },
        "id": "grTvSV3NLqg2",
        "outputId": "d13b8257-e85f-4a43-816e-2e6ab627f7b5"
      },
      "execution_count": null,
      "outputs": [
        {
          "output_type": "stream",
          "name": "stdout",
          "text": [
            "Q3  Q3.c  Q4  Q4.c  sample_data\n",
            "2\n",
            "-2\n",
            "1 -10\n",
            "T:0\n",
            "4\n",
            "3\n",
            "-5 3\n",
            "-8 2 -8\n",
            "3 9 -2 7\n",
            "T:7\n",
            "3\n",
            "1\n",
            "-5 3\n",
            "6 -4 1\n",
            "T:6\n",
            "0\n"
          ]
        },
        {
          "output_type": "execute_result",
          "data": {
            "text/plain": []
          },
          "metadata": {},
          "execution_count": 153
        }
      ]
    },
    {
      "cell_type": "code",
      "source": [
        "#Q4 http://www.beecrowd.com.br/judge/pt/problems/view/1084"
      ],
      "metadata": {
        "id": "Vc5j0JESYKCv"
      },
      "execution_count": null,
      "outputs": []
    },
    {
      "cell_type": "code",
      "source": [
        "#V2 pra rodar mas rapido"
      ],
      "metadata": {
        "id": "blK3EwqkBTVz"
      },
      "execution_count": null,
      "outputs": []
    },
    {
      "cell_type": "code",
      "source": [
        "%%writefile Q4.c\n",
        "#include <stdio.h>\n",
        "#include <stdlib.h>\n",
        "#include <time.h>\n",
        "#include <math.h>\n",
        "\n",
        "int winning(int nDigits, int nDigits2Erase, int numberPresented){\n",
        "    \n",
        "    int arrLen = nDigits + 1;\n",
        "    char arr[arrLen];\n",
        "    int i, j, intResult, posRemove  = 0;\n",
        "    int array[nDigits];\n",
        "    \n",
        "    //Converte o numberPresented em um array de ints\n",
        "    snprintf(arr, nDigits + 1, \"%d\", numberPresented);\n",
        "    for(i = 0; i< nDigits; i++){\n",
        "        \n",
        "        array[i] = arr[i] - '0';\n",
        "        \n",
        "    }\n",
        "\n",
        "   \n",
        "    int min = array[0];\n",
        "    \n",
        "\n",
        "    //remove os menores ints nDigits2Erase vezes\n",
        "\n",
        "    for(i = 0; i<nDigits2Erase; i++){\n",
        "        \n",
        "        //Escolhe os menor int\n",
        "        min = array[0];\n",
        "        for(int j = 0; j< nDigits; j++){\n",
        "            \n",
        "            if(array[j]< min){\n",
        "                min = array[j];\n",
        "                //Acha a pos do menor \n",
        "                posRemove = j; \n",
        "\n",
        "            }\n",
        "            \n",
        "        }\n",
        "\n",
        "\n",
        "        //Acha a pos do menor \n",
        "       \n",
        "        \n",
        "        //Remove o menor int reconstruindo a lista sem ele \n",
        "        \n",
        "        \n",
        "        //posRemove++;\n",
        "        for(j = posRemove; j < nDigits-1 ; j++){\n",
        "  \n",
        "            array[j] = array[j + 1];\n",
        "                \n",
        "        }\n",
        "\n",
        "        nDigits--;\n",
        "        \n",
        "    }\n",
        "    \n",
        "\n",
        "    for(i=0; i<nDigits; i++){\n",
        "            intResult = intResult*10 + array[i];\n",
        "    }\n",
        "    return intResult;\n",
        "    \n",
        "    \n",
        "}\n",
        "    \n",
        "\n",
        "int main(int argc, char *argv[]){\n",
        "    int nDigits;\n",
        "    int nDigits2Erase;\n",
        "    int numberPresented;\n",
        "\n",
        "    clock_t start;\n",
        "    clock_t stop;\n",
        "    double end;\n",
        "\n",
        "    //scanf(\"%d %d\", &nDigits, &nDigits2Erase);\n",
        "    \n",
        "    while (scanf(\"%d%d\", &nDigits, &nDigits2Erase) == 2 && (nDigits || nDigits2Erase)){\n",
        "      scanf(\"%d\", &numberPresented);\n",
        "\n",
        "      start = clock();\n",
        "      int r = winning(nDigits, nDigits2Erase, numberPresented);\n",
        "      printf(\"%d\", r);\n",
        "      printf(\"\\n\");\n",
        "      stop = clock();\n",
        "      end = (double) (stop - start) / CLOCKS_PER_SEC;\n",
        "      printf(\"%f\", end);\n",
        "\n",
        "    }\n",
        "    \n",
        "    \n",
        "    \n",
        "\n",
        "    return 0;\n",
        "}\n"
      ],
      "metadata": {
        "colab": {
          "base_uri": "https://localhost:8080/"
        },
        "id": "aUfYOJTDDcef",
        "outputId": "85151ec4-3f0d-43b1-d622-6aae2e540bcb"
      },
      "execution_count": null,
      "outputs": [
        {
          "output_type": "stream",
          "name": "stdout",
          "text": [
            "Overwriting Q4.c\n"
          ]
        }
      ]
    },
    {
      "cell_type": "code",
      "source": [
        "#semFunc (+ rapido?)"
      ],
      "metadata": {
        "id": "WGiY3g8Vh10-"
      },
      "execution_count": null,
      "outputs": []
    },
    {
      "cell_type": "code",
      "source": [
        "#ACCEPTED! OBS: teve q ser super otimizado pra passar no timelimit 1"
      ],
      "metadata": {
        "id": "fj8hANJ_kP_N"
      },
      "execution_count": null,
      "outputs": []
    },
    {
      "cell_type": "code",
      "source": [
        "%%writefile Q4.c\n",
        "#include <stdio.h>\n",
        "int main(void){\n",
        "    int nDigits;\n",
        "    int nDigits2Erase;\n",
        "    \n",
        "    while (scanf(\"%d%d\", &nDigits, &nDigits2Erase) == 2 && (nDigits || nDigits2Erase)){\n",
        "  \n",
        "        int i ,j , pos = 0;\n",
        "\n",
        "        int posT = -1; //min\n",
        "\n",
        "        char number[nDigits + 1];\n",
        "        \n",
        "\n",
        "        scanf(\"%s\", number);\n",
        "\n",
        "        char digitsOriginalOrder[nDigits + 1];\n",
        "\n",
        "        //Converte o numberPresented em um array de ints\n",
        "        //for(i = 0; i < nDigits2Erase; i++){\n",
        "        while(nDigits2Erase > 0){\n",
        "          \n",
        "            \n",
        "            if(posT == -1){\n",
        "                digitsOriginalOrder[++posT] = number[pos++];\n",
        "            \n",
        "            }\n",
        "\n",
        "            if(digitsOriginalOrder[posT] < number[pos]){\n",
        "                posT--, nDigits2Erase--;\n",
        "                //nDigits2Erase--;\n",
        "            }\n",
        "            else{\n",
        "                //posT++;\n",
        "                digitsOriginalOrder[++posT] = number[pos++];\n",
        "                //pos++;\n",
        "                if(pos == nDigits){\n",
        "                    while(nDigits2Erase--){\n",
        "                        posT--;\n",
        "                    }\n",
        "                }\n",
        "            }\n",
        "            \n",
        "            \n",
        "        }\n",
        "        //Deleta a menor posicao\n",
        "        for(j = pos; j < nDigits; j++){\n",
        "          digitsOriginalOrder[++posT] = number[j];\n",
        "        }\n",
        "        digitsOriginalOrder[posT + 1] = '\\0';\n",
        "\n",
        "        printf(\"%s\", digitsOriginalOrder);\n",
        "        \n",
        "        printf(\"\\n\");\n",
        "\n",
        "    }\n",
        "    \n",
        "    return 0;\n",
        "}"
      ],
      "metadata": {
        "colab": {
          "base_uri": "https://localhost:8080/"
        },
        "id": "DyXZG8Iyh5_8",
        "outputId": "88426426-20fd-436f-afed-12faf7f0060a"
      },
      "execution_count": null,
      "outputs": [
        {
          "output_type": "stream",
          "name": "stdout",
          "text": [
            "Overwriting Q4.c\n"
          ]
        }
      ]
    },
    {
      "cell_type": "code",
      "source": [
        "%%shell\n",
        "ls\n",
        "gcc Q4.c -o Q4\n",
        "./Q4"
      ],
      "metadata": {
        "colab": {
          "base_uri": "https://localhost:8080/",
          "height": 485
        },
        "id": "j10WZEuC-BVG",
        "outputId": "42c19fed-6ae2-4573-99ba-79d70187c621"
      },
      "execution_count": null,
      "outputs": [
        {
          "output_type": "stream",
          "name": "stdout",
          "text": [
            "Q4  Q4.c  sample_data\n",
            "4 2\n",
            "3759\n",
            "79\n",
            "6 3\n",
            "123123\n",
            "323\n"
          ]
        },
        {
          "output_type": "error",
          "ename": "CalledProcessError",
          "evalue": "ignored",
          "traceback": [
            "\u001b[0;31m---------------------------------------------------------------------------\u001b[0m",
            "\u001b[0;31mCalledProcessError\u001b[0m                        Traceback (most recent call last)",
            "\u001b[0;32m<ipython-input-22-e0cf06bd297d>\u001b[0m in \u001b[0;36m<module>\u001b[0;34m\u001b[0m\n\u001b[0;32m----> 1\u001b[0;31m \u001b[0mget_ipython\u001b[0m\u001b[0;34m(\u001b[0m\u001b[0;34m)\u001b[0m\u001b[0;34m.\u001b[0m\u001b[0mrun_cell_magic\u001b[0m\u001b[0;34m(\u001b[0m\u001b[0;34m'shell'\u001b[0m\u001b[0;34m,\u001b[0m \u001b[0;34m''\u001b[0m\u001b[0;34m,\u001b[0m \u001b[0;34m'ls\\ngcc Q4.c -o Q4\\n./Q4\\n'\u001b[0m\u001b[0;34m)\u001b[0m\u001b[0;34m\u001b[0m\u001b[0;34m\u001b[0m\u001b[0m\n\u001b[0m",
            "\u001b[0;32m/usr/local/lib/python3.7/dist-packages/IPython/core/interactiveshell.py\u001b[0m in \u001b[0;36mrun_cell_magic\u001b[0;34m(self, magic_name, line, cell)\u001b[0m\n\u001b[1;32m   2357\u001b[0m             \u001b[0;32mwith\u001b[0m \u001b[0mself\u001b[0m\u001b[0;34m.\u001b[0m\u001b[0mbuiltin_trap\u001b[0m\u001b[0;34m:\u001b[0m\u001b[0;34m\u001b[0m\u001b[0;34m\u001b[0m\u001b[0m\n\u001b[1;32m   2358\u001b[0m                 \u001b[0margs\u001b[0m \u001b[0;34m=\u001b[0m \u001b[0;34m(\u001b[0m\u001b[0mmagic_arg_s\u001b[0m\u001b[0;34m,\u001b[0m \u001b[0mcell\u001b[0m\u001b[0;34m)\u001b[0m\u001b[0;34m\u001b[0m\u001b[0;34m\u001b[0m\u001b[0m\n\u001b[0;32m-> 2359\u001b[0;31m                 \u001b[0mresult\u001b[0m \u001b[0;34m=\u001b[0m \u001b[0mfn\u001b[0m\u001b[0;34m(\u001b[0m\u001b[0;34m*\u001b[0m\u001b[0margs\u001b[0m\u001b[0;34m,\u001b[0m \u001b[0;34m**\u001b[0m\u001b[0mkwargs\u001b[0m\u001b[0;34m)\u001b[0m\u001b[0;34m\u001b[0m\u001b[0;34m\u001b[0m\u001b[0m\n\u001b[0m\u001b[1;32m   2360\u001b[0m             \u001b[0;32mreturn\u001b[0m \u001b[0mresult\u001b[0m\u001b[0;34m\u001b[0m\u001b[0;34m\u001b[0m\u001b[0m\n\u001b[1;32m   2361\u001b[0m \u001b[0;34m\u001b[0m\u001b[0m\n",
            "\u001b[0;32m/usr/local/lib/python3.7/dist-packages/google/colab/_system_commands.py\u001b[0m in \u001b[0;36m_shell_cell_magic\u001b[0;34m(args, cmd)\u001b[0m\n\u001b[1;32m    107\u001b[0m   \u001b[0mresult\u001b[0m \u001b[0;34m=\u001b[0m \u001b[0m_run_command\u001b[0m\u001b[0;34m(\u001b[0m\u001b[0mcmd\u001b[0m\u001b[0;34m,\u001b[0m \u001b[0mclear_streamed_output\u001b[0m\u001b[0;34m=\u001b[0m\u001b[0;32mFalse\u001b[0m\u001b[0;34m)\u001b[0m\u001b[0;34m\u001b[0m\u001b[0;34m\u001b[0m\u001b[0m\n\u001b[1;32m    108\u001b[0m   \u001b[0;32mif\u001b[0m \u001b[0;32mnot\u001b[0m \u001b[0mparsed_args\u001b[0m\u001b[0;34m.\u001b[0m\u001b[0mignore_errors\u001b[0m\u001b[0;34m:\u001b[0m\u001b[0;34m\u001b[0m\u001b[0;34m\u001b[0m\u001b[0m\n\u001b[0;32m--> 109\u001b[0;31m     \u001b[0mresult\u001b[0m\u001b[0;34m.\u001b[0m\u001b[0mcheck_returncode\u001b[0m\u001b[0;34m(\u001b[0m\u001b[0;34m)\u001b[0m\u001b[0;34m\u001b[0m\u001b[0;34m\u001b[0m\u001b[0m\n\u001b[0m\u001b[1;32m    110\u001b[0m   \u001b[0;32mreturn\u001b[0m \u001b[0mresult\u001b[0m\u001b[0;34m\u001b[0m\u001b[0;34m\u001b[0m\u001b[0m\n\u001b[1;32m    111\u001b[0m \u001b[0;34m\u001b[0m\u001b[0m\n",
            "\u001b[0;32m/usr/local/lib/python3.7/dist-packages/google/colab/_system_commands.py\u001b[0m in \u001b[0;36mcheck_returncode\u001b[0;34m(self)\u001b[0m\n\u001b[1;32m    133\u001b[0m     \u001b[0;32mif\u001b[0m \u001b[0mself\u001b[0m\u001b[0;34m.\u001b[0m\u001b[0mreturncode\u001b[0m\u001b[0;34m:\u001b[0m\u001b[0;34m\u001b[0m\u001b[0;34m\u001b[0m\u001b[0m\n\u001b[1;32m    134\u001b[0m       raise subprocess.CalledProcessError(\n\u001b[0;32m--> 135\u001b[0;31m           returncode=self.returncode, cmd=self.args, output=self.output)\n\u001b[0m\u001b[1;32m    136\u001b[0m \u001b[0;34m\u001b[0m\u001b[0m\n\u001b[1;32m    137\u001b[0m   \u001b[0;32mdef\u001b[0m \u001b[0m_repr_pretty_\u001b[0m\u001b[0;34m(\u001b[0m\u001b[0mself\u001b[0m\u001b[0;34m,\u001b[0m \u001b[0mp\u001b[0m\u001b[0;34m,\u001b[0m \u001b[0mcycle\u001b[0m\u001b[0;34m)\u001b[0m\u001b[0;34m:\u001b[0m  \u001b[0;31m# pylint:disable=unused-argument\u001b[0m\u001b[0;34m\u001b[0m\u001b[0;34m\u001b[0m\u001b[0m\n",
            "\u001b[0;31mCalledProcessError\u001b[0m: Command 'ls\ngcc Q4.c -o Q4\n./Q4\n' died with <Signals.SIGINT: 2>."
          ]
        }
      ]
    },
    {
      "cell_type": "code",
      "source": [],
      "metadata": {
        "id": "tfoUtEkwlVqs"
      },
      "execution_count": null,
      "outputs": []
    }
  ]
}